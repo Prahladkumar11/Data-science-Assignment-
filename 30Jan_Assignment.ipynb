{
 "cells": [
  {
   "cell_type": "markdown",
   "id": "4b2e44f9-8855-4fa6-a0ad-5d0a096b10b1",
   "metadata": {},
   "source": [
    "Q1. Write a program to accept percentage from the user and display the grade according to the following  criteria.\n",
    "\n",
    "More than 90 = A            \n",
    "More than 80 and less than equal to 90 = B              \n",
    "More than equal to 60 and less than equal to 80 = C             \n",
    "below 60 = D\n"
   ]
  },
  {
   "cell_type": "code",
   "execution_count": 5,
   "id": "02536373-ee0b-4cdd-8ea2-368dde7c73bf",
   "metadata": {},
   "outputs": [
    {
     "name": "stdin",
     "output_type": "stream",
     "text": [
      "Enter the Optained Percentage 8\n"
     ]
    },
    {
     "name": "stdout",
     "output_type": "stream",
     "text": [
      "Your Grade = D\n"
     ]
    }
   ],
   "source": [
    "# Ans.1\n",
    "\n",
    "percent=int(input(\"Enter the Optained Percentage\"))\n",
    "\n",
    "if percent>90:\n",
    "    print(\"Your Grade = A\")\n",
    "\n",
    "elif 80<percent<=90:\n",
    "    print(\"Your Grade = B \")\n",
    "elif 60<=percent<=80:\n",
    "    print(\"Your Grade = C\")\n",
    "else:\n",
    "    print(\"Your Grade = D\")\n"
   ]
  },
  {
   "cell_type": "markdown",
   "id": "aed26c0f-fdc0-41aa-b473-504d037efb14",
   "metadata": {},
   "source": [
    "Q2. Write a progeam to accept the cost price of a bike and display the road tax to be paid according to the following criteria:\n",
    "    \n",
    "Cost Price more than 100000 = 15%           \n",
    "Cost Price more than 50000 and less than equal to 100000 =10%\n",
    "Cost Price less than equal to 50000 = 5%"
   ]
  },
  {
   "cell_type": "code",
   "execution_count": 8,
   "id": "56be65c4-0278-4a8a-84fe-3a65e20acf13",
   "metadata": {},
   "outputs": [
    {
     "name": "stdin",
     "output_type": "stream",
     "text": [
      "Enter the Cost Price of the Bike  200000\n"
     ]
    },
    {
     "name": "stdout",
     "output_type": "stream",
     "text": [
      "Road Tax to Pay 30000.0\n"
     ]
    }
   ],
   "source": [
    "cp=int(input(\"Enter the Cost Price of the Bike \"))\n",
    "if cp>100000:\n",
    "    tax=0.15*cp\n",
    "    print(\"Road Tax to Pay\",tax)\n",
    "    \n",
    "elif 50000<cp<=100000:\n",
    "    tax=0.10*cp\n",
    "    print(\"Road Tax to Pay\",tax)\n",
    "    \n",
    "else: \n",
    "    tax=0.05*cp\n",
    "    print(\"Road Tax to Pay\",tax)\n",
    "    \n",
    "    "
   ]
  },
  {
   "cell_type": "markdown",
   "id": "c6a341e0-3691-4908-ab0c-2ce369b561f7",
   "metadata": {},
   "source": [
    "Q3.Accept any city from the user and display monuments of that city.\n",
    "\n",
    "Delhi   =   Red Fort         \n",
    "Agra    =  Taj Mahal         \n",
    "Jaipur  = Jal Mahal        \n",
    "\n"
   ]
  },
  {
   "cell_type": "code",
   "execution_count": 4,
   "id": "ad53fb12-c7af-4d02-8ab4-e44a4959f8d6",
   "metadata": {},
   "outputs": [
    {
     "name": "stdin",
     "output_type": "stream",
     "text": [
      "Enter the city name:  agra\n"
     ]
    },
    {
     "name": "stdout",
     "output_type": "stream",
     "text": [
      "Monument : Taj Mahal \n"
     ]
    }
   ],
   "source": [
    "#Ans 3.\n",
    "\n",
    "city= input(\"Enter the city name: \")\n",
    "if city.lower()==\"delhi\":\n",
    "    print(\"Monument : Red Fort\")\n",
    "elif city.lower()=='agra':\n",
    "    print(\"Monument : Taj Mahal \")\n",
    "    \n",
    "elif city.lower()=='jaipur':\n",
    "    print(\"Monument :  Jal Mahal\")\n",
    "else:\n",
    "    print(\"No Record founded\")"
   ]
  },
  {
   "cell_type": "markdown",
   "id": "41a3c4d1-0703-446c-8663-c2d9406c7976",
   "metadata": {},
   "source": [
    "Q4. Check how many times a given number can be divided by 3 before it is less than or equal to 10."
   ]
  },
  {
   "cell_type": "code",
   "execution_count": 6,
   "id": "9e12728f-67fb-448f-900a-b342e9f7ba54",
   "metadata": {},
   "outputs": [
    {
     "name": "stdin",
     "output_type": "stream",
     "text": [
      "Enter the Number to check 900\n"
     ]
    },
    {
     "name": "stdout",
     "output_type": "stream",
     "text": [
      "4\n"
     ]
    }
   ],
   "source": [
    "# Ans 4.\n",
    "\n",
    "count=0\n",
    "num=int(input(\"Enter the Number to check\"))\n",
    "\n",
    "while num/3>=10:\n",
    "    num/=3\n",
    "    count+=1\n",
    "    \n",
    "print(count)\n"
   ]
  },
  {
   "cell_type": "markdown",
   "id": "6b0d2e70-dcd5-42fd-a852-8bb9f3c75f53",
   "metadata": {},
   "source": [
    "Q5. Why and when to use while loop in python give a detained description with Example.\n",
    "\n",
    "\n",
    "Ans. \n",
    "\n",
    "    While Loop is used when the number of iteration is not known .so, we use while loop which check condition at the beginning of the loop if the condition is satified then  the loop statement executed ohterwise not executed.\n",
    "    \n",
    "    Ex. let take example of above question, where we have to check how many times a given number is divided by 3 to become it less than or equal to 10.\n",
    "    \n",
    "    \n",
    "    here we don't known how many time we need to divide to make it less than or equal to 10 \n",
    "    So, we use while loop to perform this operation."
   ]
  },
  {
   "cell_type": "markdown",
   "id": "05ada2d7-41c5-4115-be46-0b1f593ae54f",
   "metadata": {},
   "source": [
    "Q6.  Use nested whileloop to print 3 different pattern.\n"
   ]
  },
  {
   "cell_type": "code",
   "execution_count": 7,
   "id": "4d5547bd-8e25-4e36-8ef6-81860e078009",
   "metadata": {},
   "outputs": [
    {
     "name": "stdout",
     "output_type": "stream",
     "text": [
      "* \n",
      "* * \n",
      "* * * \n",
      "* * * * \n",
      "* * * * * \n"
     ]
    }
   ],
   "source": [
    "# Ans6.\n",
    "\n",
    "# Traingle Pattern\n",
    "\n",
    "i = 1\n",
    "while i <= 5:\n",
    "    j = 1\n",
    "    while j <= i:\n",
    "        print(\"*\", end=\" \")\n",
    "        j += 1\n",
    "    print()\n",
    "    i += 1\n",
    "\n"
   ]
  },
  {
   "cell_type": "code",
   "execution_count": 8,
   "id": "4ff6e9b6-3ed6-4af8-8497-409a918816c1",
   "metadata": {},
   "outputs": [
    {
     "name": "stdout",
     "output_type": "stream",
     "text": [
      "* * * * * \n",
      "* * * * \n",
      "* * * \n",
      "* * \n",
      "* \n"
     ]
    }
   ],
   "source": [
    "# Reverse Triangle Pattern\n",
    "\n",
    "i = 5\n",
    "while i >= 1:\n",
    "    j = 1\n",
    "    while j <= i:\n",
    "        print(\"*\", end=\" \")\n",
    "        j += 1\n",
    "    print()\n",
    "    i -= 1\n"
   ]
  },
  {
   "cell_type": "code",
   "execution_count": 9,
   "id": "109d969d-1fe5-49e4-8944-fec97436e5a2",
   "metadata": {},
   "outputs": [
    {
     "name": "stdout",
     "output_type": "stream",
     "text": [
      "        * \n",
      "      * * * \n",
      "    * * * * * \n",
      "  * * * * * * * \n",
      "* * * * * * * * * \n"
     ]
    }
   ],
   "source": [
    "# Pyramid pattern\n",
    "\n",
    "n = 5\n",
    "for i in range(1, n + 1):\n",
    "    for j in range(1, n - i + 1):\n",
    "        print(\" \", end=\" \")\n",
    "    for k in range(1, 2 * i):\n",
    "        print(\"*\", end=\" \")\n",
    "    print()\n",
    "\n",
    "\n"
   ]
  },
  {
   "cell_type": "markdown",
   "id": "f01abafe-1d41-4db1-8f33-2ba2e163d99c",
   "metadata": {},
   "source": [
    "Q7. Reverse  a while loop to display numbers from 10 to 1\n"
   ]
  },
  {
   "cell_type": "code",
   "execution_count": 10,
   "id": "1e755009-c71b-4625-a48b-c1b99ec49b90",
   "metadata": {},
   "outputs": [
    {
     "name": "stdout",
     "output_type": "stream",
     "text": [
      "10\n",
      "9\n",
      "8\n",
      "7\n",
      "6\n",
      "5\n",
      "4\n",
      "3\n",
      "2\n",
      "1\n"
     ]
    }
   ],
   "source": [
    "# Ans7.\n",
    "\n",
    "i=10\n",
    "while i>0:\n",
    "    print(i)\n",
    "    i-=1"
   ]
  },
  {
   "cell_type": "markdown",
   "id": "25534336-26e0-4a12-b40d-ed958671d9b6",
   "metadata": {},
   "source": [
    "Q8.reverse a while loop to display number."
   ]
  },
  {
   "cell_type": "code",
   "execution_count": 12,
   "id": "8957fb9e-f3d7-4946-ac16-c27abb6fb986",
   "metadata": {},
   "outputs": [
    {
     "name": "stdout",
     "output_type": "stream",
     "text": [
      "10\n",
      "9\n",
      "8\n",
      "7\n",
      "6\n",
      "5\n",
      "4\n",
      "3\n",
      "2\n",
      "1\n"
     ]
    }
   ],
   "source": [
    "i=10\n",
    "while i>0:\n",
    "    print(i)\n",
    "    i-=1"
   ]
  }
 ],
 "metadata": {
  "kernelspec": {
   "display_name": "Python 3 (ipykernel)",
   "language": "python",
   "name": "python3"
  },
  "language_info": {
   "codemirror_mode": {
    "name": "ipython",
    "version": 3
   },
   "file_extension": ".py",
   "mimetype": "text/x-python",
   "name": "python",
   "nbconvert_exporter": "python",
   "pygments_lexer": "ipython3",
   "version": "3.10.8"
  }
 },
 "nbformat": 4,
 "nbformat_minor": 5
}
