{
 "cells": [
  {
   "cell_type": "markdown",
   "id": "8051a2b4-4010-4341-8f3d-7c2de683feb0",
   "metadata": {},
   "source": [
    "Q1. Which function is used to open a file? What are the different modes of opening a file? Explain each mode\n",
    "of file opening.\n",
    "\n",
    "Ans1.\n",
    "\n",
    "The open function is used to open a file in Python.\n",
    "\n",
    "The open function takes two mandatory arguments:\n",
    "    The name of the file to be opened.\n",
    "    The mode in which the file is opened.\n",
    "    \n",
    "    \n",
    "The different modes of opening a file in Python are:\n",
    "\n",
    "'r' (Read Only) - This is the default mode. It opens the file for reading and places the cursor at the beginning of the file. If the file does not exist, an error is raised.\n",
    "\n",
    "'w' (Write Only) - This mode opens the file for writing. If the file already exists, its contents are truncated (deleted). If the file does not exist, a new file is created.\n",
    "\n",
    "'a' (Append Only) - This mode opens the file for writing and appends new data to the end of the file. If the file does not exist, a new file is created.\n",
    "\n",
    "'x' (Exclusive Creation) - This mode opens the file for writing, but only if the file does not already exist. If the file already exists, an error is raised.\n",
    "\n",
    "'b' (Binary Mode) - This mode is used to open binary files like images, audio files, etc. The mode 'b' can be combined with any of the above modes by concatenating the two characters. For example, 'wb' means write in binary mode.\n"
   ]
  },
  {
   "cell_type": "markdown",
   "id": "3f2eda12-a431-4f71-99fd-e62cb3dda4c4",
   "metadata": {},
   "source": [
    "Q2. Why close() function is used? Why is it important to close a file?\n",
    "\n",
    "Ans2.\n",
    "\n",
    "The close() function is used to close an open file in Python. It is important to close a file because it releases the resources and memory that the file was using. Once a file is closed, you can no longer read or write to it, and any changes made to the file are saved. Not closing a file can cause memory leaks and lead to errors if the same file is opened again in the future. Additionally, it is a good practice to close a file after you have finished using it to ensure that resources are released properly."
   ]
  },
  {
   "cell_type": "markdown",
   "id": "e0cd04c4-806c-4434-880d-8f30a4174b5e",
   "metadata": {},
   "source": [
    "Q3. Write a python program to create a text file. Write ‘I want to become a Data Scientist’ in that file. Then\n",
    "close the file. Open this file and read the content of the file.\n"
   ]
  },
  {
   "cell_type": "code",
   "execution_count": 4,
   "id": "e4443fcf-2d59-4eaf-ba4f-d457b06739a7",
   "metadata": {},
   "outputs": [
    {
     "name": "stdout",
     "output_type": "stream",
     "text": [
      "I want to become a Data Scientist\n"
     ]
    }
   ],
   "source": [
    "# Ans3.\n",
    "\n",
    "# Opening a file for writing\n",
    "file = open(\"textfile.txt\", \"w\")\n",
    "\n",
    "# Writing to the file\n",
    "file.write(\"I want to become a Data Scientist\")\n",
    "\n",
    "# Closing the file\n",
    "file.close()\n",
    "\n",
    "# Opening the file for reading\n",
    "file = open(\"textfile.txt\", \"r\")\n",
    "\n",
    "# Reading the contents of the file\n",
    "content = file.read()\n",
    "\n",
    "# Printing the contents of the file\n",
    "print(content)\n",
    "\n",
    "# Closing the file\n",
    "file.close()\n"
   ]
  },
  {
   "cell_type": "markdown",
   "id": "650ce42f-6fff-4629-8182-67f765b872b3",
   "metadata": {},
   "source": [
    "Q4. Explain the following with python code: read(), readline() and readlines().\n",
    "\n",
    "\n"
   ]
  },
  {
   "cell_type": "code",
   "execution_count": 5,
   "id": "5425ebca-0523-4394-befe-fa1e8ea7a311",
   "metadata": {},
   "outputs": [
    {
     "name": "stdout",
     "output_type": "stream",
     "text": [
      "I want to become a Data Scientist\n"
     ]
    }
   ],
   "source": [
    "\n",
    "# Ans4.\n",
    "\n",
    "\n",
    "# read(): This function reads the entire contents of a text file as a single string.\n",
    "\n",
    "# Opening the file for reading\n",
    "file = open(\"textfile.txt\", \"r\")\n",
    "\n",
    "# Reading the contents of the file\n",
    "content = file.read()\n",
    "\n",
    "# Printing the contents of the file\n",
    "print(content)\n",
    "\n",
    "# Closing the file\n",
    "file.close()\n"
   ]
  },
  {
   "cell_type": "code",
   "execution_count": 7,
   "id": "bb7dc85f-e940-4b0c-8775-7219e6812b36",
   "metadata": {},
   "outputs": [
    {
     "name": "stdout",
     "output_type": "stream",
     "text": [
      "I want to become a Data Scientist\n",
      "\n",
      "My name is Prahlad kumar kushwaha\n",
      "\n"
     ]
    }
   ],
   "source": [
    "\"\"\"\n",
    "readline(): This function reads a single line of the text file.\n",
    "The cursor position moves to the next line after each call.\n",
    "\n",
    "\"\"\"\n",
    "\n",
    "# Opening the file for reading\n",
    "file = open(\"textfile.txt\", \"r\")\n",
    "\n",
    "# Reading the first line of the file\n",
    "first_line = file.readline()\n",
    "\n",
    "# Printing the first line\n",
    "print(first_line)\n",
    "\n",
    "# Reading the second line of the file\n",
    "second_line = file.readline()\n",
    "\n",
    "# Printing the second line\n",
    "print(second_line)\n",
    "\n",
    "# Closing the file\n",
    "file.close()\n"
   ]
  },
  {
   "cell_type": "code",
   "execution_count": 9,
   "id": "d5c15b20-dccd-4f8d-97ed-1337785a2451",
   "metadata": {},
   "outputs": [
    {
     "name": "stdout",
     "output_type": "stream",
     "text": [
      "I want to become a Data Scientist\n",
      "\n",
      "My name is Prahlad kumar kushwaha\n",
      "\n"
     ]
    }
   ],
   "source": [
    "\"\"\"\n",
    "\n",
    "readlines(): This function reads the entire contents of the text file as a list of strings, where each line is a single element of the list.\n",
    "\n",
    "\"\"\"\n",
    "\n",
    "# Opening the file for reading\n",
    "file = open(\"textfile.txt\", \"r\")\n",
    "\n",
    "# Reading the lines of the file\n",
    "lines = file.readlines()\n",
    "\n",
    "# Printing the lines\n",
    "for line in lines:\n",
    "    print(line)\n",
    "\n",
    "# Closing the file\n",
    "file.close()\n"
   ]
  },
  {
   "cell_type": "markdown",
   "id": "444d7b8a-63bc-4fd4-862c-5c76468bf39b",
   "metadata": {},
   "source": [
    "Q5. Explain why with statement is used with open(). What is the advantage of using with statement and\n",
    "open() together?\n",
    "\n",
    "Ans.\n",
    "        The with statement is used with the open() function to ensure that a file is closed properly after being      used, even if an exception is raised during the processing.\n",
    "        \n",
    "        The advantage of using with statement with open() is that it automatically closes the file when the block of code inside the with statement is finished, regardless of whether the file was successfully processed or not. This eliminates the need to manually call the close() method and helps to avoid resource leaks or data loss. The code inside the with statement is also more readable and less error-prone.\n"
   ]
  },
  {
   "cell_type": "code",
   "execution_count": 10,
   "id": "aa82961b-38d6-4888-9f10-9a12171286ff",
   "metadata": {},
   "outputs": [],
   "source": [
    "with open(\"example.txt\", \"w\") as file:\n",
    "    file.write(\"This is an example text.\")\n",
    "\n",
    "# The file is automatically closed after the block of code is executed\n"
   ]
  }
 ],
 "metadata": {
  "kernelspec": {
   "display_name": "Python 3 (ipykernel)",
   "language": "python",
   "name": "python3"
  },
  "language_info": {
   "codemirror_mode": {
    "name": "ipython",
    "version": 3
   },
   "file_extension": ".py",
   "mimetype": "text/x-python",
   "name": "python",
   "nbconvert_exporter": "python",
   "pygments_lexer": "ipython3",
   "version": "3.10.8"
  }
 },
 "nbformat": 4,
 "nbformat_minor": 5
}
