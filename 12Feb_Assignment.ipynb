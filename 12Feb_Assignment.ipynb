{
 "cells": [
  {
   "cell_type": "markdown",
   "id": "567c08e6-03c2-4c4e-bcb8-fbd49e983b8e",
   "metadata": {},
   "source": [
    "Q1. What is an Exception in python? Write the difference between Exceptions and Snytax errors.\n",
    "\n",
    "Ans.\n",
    "\n",
    "    An exception in Python is an event that occurs during the execution of a program that disrupts the normal flow of instructions. Exceptions are typically raised when an error occurs, such as division by zero, file not found, or invalid user input.\n",
    "\n",
    "    The difference between exceptions and syntax errors is that syntax errors are errors in the syntax of the Python code, such as incorrect indentation, missing parentheses, or incorrect spelling of keywords. Syntax errors are detected by the Python interpreter when the code is first executed and prevent the code from being executed at all.\n",
    "    \n",
    "    Exceptions, on the other hand, are errors that occur during the execution of the code, and the code can continue to execute even after an exception has been raised. The code can handle the exception using try-except blocks, which allow the code to continue executing even if an exception has been raised. If an exception is not handled, the code will stop executing and the error message associated with the exception will be displayed."
   ]
  },
  {
   "cell_type": "markdown",
   "id": "34d223d6-913f-43e6-8dbc-103d9ec47201",
   "metadata": {},
   "source": [
    "Q2. What happens when an exception is not handled? Explain with an example.\n",
    "\n",
    "Ans.\n",
    "\n",
    "If an exception is not handled, the code will stop executing and Python will raise an unhandled exception error. The error message associated with the exception will be displayed, indicating the type of exception that was raised and the line of code where the exception occurred."
   ]
  },
  {
   "cell_type": "code",
   "execution_count": 1,
   "id": "4a3445b9-56c7-4568-86e8-f14b64b167ce",
   "metadata": {},
   "outputs": [
    {
     "name": "stdout",
     "output_type": "stream",
     "text": [
      "2.0\n"
     ]
    },
    {
     "ename": "ZeroDivisionError",
     "evalue": "division by zero",
     "output_type": "error",
     "traceback": [
      "\u001b[0;31m---------------------------------------------------------------------------\u001b[0m",
      "\u001b[0;31mZeroDivisionError\u001b[0m                         Traceback (most recent call last)",
      "Cell \u001b[0;32mIn[1], line 7\u001b[0m\n\u001b[1;32m      4\u001b[0m     \u001b[38;5;28;01mreturn\u001b[39;00m a \u001b[38;5;241m/\u001b[39m b\n\u001b[1;32m      6\u001b[0m \u001b[38;5;28mprint\u001b[39m(divide(\u001b[38;5;241m10\u001b[39m, \u001b[38;5;241m5\u001b[39m))\n\u001b[0;32m----> 7\u001b[0m \u001b[38;5;28mprint\u001b[39m(\u001b[43mdivide\u001b[49m\u001b[43m(\u001b[49m\u001b[38;5;241;43m10\u001b[39;49m\u001b[43m,\u001b[49m\u001b[43m \u001b[49m\u001b[38;5;241;43m0\u001b[39;49m\u001b[43m)\u001b[49m)\n",
      "Cell \u001b[0;32mIn[1], line 4\u001b[0m, in \u001b[0;36mdivide\u001b[0;34m(a, b)\u001b[0m\n\u001b[1;32m      3\u001b[0m \u001b[38;5;28;01mdef\u001b[39;00m \u001b[38;5;21mdivide\u001b[39m(a, b):\n\u001b[0;32m----> 4\u001b[0m     \u001b[38;5;28;01mreturn\u001b[39;00m \u001b[43ma\u001b[49m\u001b[43m \u001b[49m\u001b[38;5;241;43m/\u001b[39;49m\u001b[43m \u001b[49m\u001b[43mb\u001b[49m\n",
      "\u001b[0;31mZeroDivisionError\u001b[0m: division by zero"
     ]
    }
   ],
   "source": [
    "# Here is an example of an unhandled exception in Python\n",
    "\n",
    "def divide(a, b):\n",
    "    return a / b\n",
    "\n",
    "print(divide(10, 5))\n",
    "print(divide(10, 0))\n"
   ]
  },
  {
   "cell_type": "code",
   "execution_count": 3,
   "id": "93a7b07e-3e4b-46f2-a714-de13254b6290",
   "metadata": {},
   "outputs": [
    {
     "name": "stdout",
     "output_type": "stream",
     "text": [
      "2.0\n",
      "Cannot divide by zero\n"
     ]
    }
   ],
   "source": [
    "'''\n",
    "By handling the exception using a try-except block, the code can continue\n",
    "executing even if an exception has been raised\n",
    "'''\n",
    "\n",
    "def divide(a, b):\n",
    "    try:\n",
    "        return a / b\n",
    "    except ZeroDivisionError:\n",
    "        return 'Cannot divide by zero'\n",
    "\n",
    "print(divide(10, 5))\n",
    "print(divide(10, 0))\n"
   ]
  },
  {
   "cell_type": "markdown",
   "id": "1513586e-cf9b-4479-a220-47c724ed8ba5",
   "metadata": {},
   "source": [
    "Q3. Which Python statements are used to catch and handle exceptions? Explain with an example.\n",
    "\n",
    "Ans.\n",
    "\n",
    "    In Python, exceptions can be caught and handled using the try and except statements. The try statement is used to define a block of code that is executed until an exception is raised. The except statement is used to define a block of code that will be executed if an exception is raised in the try block."
   ]
  },
  {
   "cell_type": "code",
   "execution_count": 15,
   "id": "9c01ce2e-c12b-4ee2-af72-126c21afce24",
   "metadata": {},
   "outputs": [
    {
     "name": "stdin",
     "output_type": "stream",
     "text": [
      "Enter a number:  9\n",
      "Enter another number:  8\n"
     ]
    },
    {
     "name": "stdout",
     "output_type": "stream",
     "text": [
      "1.125\n"
     ]
    }
   ],
   "source": [
    "'''\n",
    "\n",
    "In this example, the try block contains the code that might raise an exception (converting the user's input to integers and dividing the two numbers). \n",
    "If an exception is raised, the code will jump to the first except block that matches the type of exception that was raised.\n",
    "If a ZeroDivisionError is raised, the message \"Cannot divide by zero.\" will be printed.\n",
    "If a ValueError is raised, the message \"Invalid input. Only numbers are allowed.\" will be printed.\n",
    "If no exceptions are raised, the code in the else block will be executed and the result of the division will be printed.\n",
    "\n",
    "'''\n",
    "\n",
    "try:\n",
    "    a = int(input(\"Enter a number: \"))\n",
    "    b = int(input(\"Enter another number: \"))\n",
    "    result = a / b\n",
    "except ZeroDivisionError:\n",
    "    print(\"Cannot divide by zero.\")\n",
    "except ValueError:\n",
    "    print(\"Invalid input. Only numbers are allowed.\")\n",
    "else:\n",
    "    print(result)\n",
    "    \n",
    "    \n",
    "\n"
   ]
  },
  {
   "cell_type": "markdown",
   "id": "ab63e4fb-76a5-42ea-b386-62f7887209b8",
   "metadata": {},
   "source": [
    "Q4. Explain with an example:\n",
    "a. try and else\n",
    "b. finally\n",
    "c. raise\n",
    "\n",
    "\n",
    "Ans.\n",
    "\n",
    "a. try and else:\n",
    "\n",
    "The try and else statement in Python is used to handle exceptions. It is a way to run some code and check for errors in that code, and then to run a different piece of code if an error occurs."
   ]
  },
  {
   "cell_type": "code",
   "execution_count": 13,
   "id": "049ecc5d-8796-494d-9b5e-d9d215d51217",
   "metadata": {},
   "outputs": [
    {
     "name": "stdout",
     "output_type": "stream",
     "text": [
      "Cannot divide by zero.\n"
     ]
    }
   ],
   "source": [
    "# for example\n",
    "\n",
    "try:\n",
    "  result = 10 / 0\n",
    "except ZeroDivisionError:\n",
    "  print(\"Cannot divide by zero.\")\n",
    "else:\n",
    "  print(\"The result is\", result)\n",
    "\n"
   ]
  },
  {
   "cell_type": "code",
   "execution_count": 14,
   "id": "2955f567-5b03-4226-9cc8-029920c9a356",
   "metadata": {},
   "outputs": [
    {
     "name": "stdout",
     "output_type": "stream",
     "text": [
      "Cannot divide by zero.\n",
      "Finally block executed.\n"
     ]
    }
   ],
   "source": [
    "# b. finally:\n",
    "\n",
    "'''\n",
    "\n",
    "The finally statement in Python is used to ensure that some code is executed regardless of whether an exception was raised or not.\n",
    "It is useful for cleaning up resources or closing files, even if an exception was raised.\n",
    "\n",
    "'''\n",
    "\n",
    "try:\n",
    "  result = 10 / 0\n",
    "except ZeroDivisionError:\n",
    "  print(\"Cannot divide by zero.\")\n",
    "finally:\n",
    "  print(\"Finally block executed.\")\n"
   ]
  },
  {
   "cell_type": "code",
   "execution_count": 16,
   "id": "81db8f69-773c-4728-9f02-b7516a9118cc",
   "metadata": {},
   "outputs": [
    {
     "name": "stdout",
     "output_type": "stream",
     "text": [
      "Error: Birth year cannot be negative.\n"
     ]
    }
   ],
   "source": [
    "# c. raise:\n",
    "'''\n",
    "\n",
    "The raise statement in Python is used to raise an exception. \n",
    "This is useful when you want to stop the execution of the program and signal that an error has occurred.\n",
    "\n",
    "'''\n",
    "\n",
    "def calculate_age(birth_year):\n",
    "  if birth_year < 0:\n",
    "    raise ValueError(\"Birth year cannot be negative.\")\n",
    "  return 2023 - birth_year\n",
    "\n",
    "try:\n",
    "  age = calculate_age(-10)\n",
    "except ValueError as e:\n",
    "  print(\"Error:\", e)\n"
   ]
  },
  {
   "cell_type": "markdown",
   "id": "4a35cc5a-e9f4-40cc-a63b-1644638c8664",
   "metadata": {},
   "source": [
    "Q5. What are Custom Exceptions in python? Why do we need Custom Exceptions? Explain with an example.\n",
    "\n",
    "Ans.\n",
    "\n",
    "Custom exceptions in Python are user-defined exceptions. They are used when the built-in exceptions provided by Python are not sufficient to handle specific error conditions in a program. Custom exceptions allow developers to raise exceptions with custom error messages and to catch and handle these exceptions in a more meaningful way.\n",
    "\n",
    "The need for custom exceptions arises when the standard exceptions provided by Python are not specific enough for a particular use case. For example, you may want to raise a specific exception when a user enters an invalid username or password, or when a user tries to access a restricted resource. Custom exceptions can be raised in these situations to provide more meaningful error messages and to handle the errors in a specific way."
   ]
  },
  {
   "cell_type": "code",
   "execution_count": 17,
   "id": "c757e6a6-cfd1-4b76-be90-66469fdb12e7",
   "metadata": {},
   "outputs": [
    {
     "name": "stdout",
     "output_type": "stream",
     "text": [
      "Error: Username must be at least 8 characters long.\n"
     ]
    }
   ],
   "source": [
    "# for example\n",
    "\n",
    "class InvalidUsernameException(Exception):\n",
    "  pass\n",
    "\n",
    "def validate_username(username):\n",
    "  if len(username) < 8:\n",
    "    raise InvalidUsernameException(\"Username must be at least 8 characters long.\")\n",
    "\n",
    "try:\n",
    "  validate_username(\"short\")\n",
    "except InvalidUsernameException as e:\n",
    "  print(\"Error:\", e)\n"
   ]
  },
  {
   "cell_type": "markdown",
   "id": "15f6d559-f0c7-423f-98fd-e9bd7e26fac6",
   "metadata": {},
   "source": [
    "In this example, a custom exception class named InvalidUsernameException is defined. This class inherits from the built-in Exception class and can be used to raise an exception when a username is found to be invalid. The validate_username function checks the length of the username and raises the InvalidUsernameException if it is less than 8 characters long. The try block calls the validate_username function with a short username, which will raise the custom exception. The except block will catch the exception and print an error message."
   ]
  },
  {
   "cell_type": "markdown",
   "id": "e392aa92-3c8f-4aca-8d82-53a34fca0def",
   "metadata": {},
   "source": [
    "Q6. Create a custom exception class. Use this class to handle an exception."
   ]
  },
  {
   "cell_type": "code",
   "execution_count": 18,
   "id": "3664a25b-c93c-4147-a484-e4197f1eafe7",
   "metadata": {},
   "outputs": [
    {
     "name": "stdout",
     "output_type": "stream",
     "text": [
      "Error: Input value cannot be negative.\n"
     ]
    }
   ],
   "source": [
    "class InvalidInputException(Exception):\n",
    "  pass\n",
    "\n",
    "def check_input(input_value):\n",
    "  if input_value < 0:\n",
    "    raise InvalidInputException(\"Input value cannot be negative.\")\n",
    "\n",
    "try:\n",
    "  check_input(-10)\n",
    "except InvalidInputException as e:\n",
    "  print(\"Error:\", e)\n"
   ]
  }
 ],
 "metadata": {
  "kernelspec": {
   "display_name": "Python 3 (ipykernel)",
   "language": "python",
   "name": "python3"
  },
  "language_info": {
   "codemirror_mode": {
    "name": "ipython",
    "version": 3
   },
   "file_extension": ".py",
   "mimetype": "text/x-python",
   "name": "python",
   "nbconvert_exporter": "python",
   "pygments_lexer": "ipython3",
   "version": "3.10.8"
  }
 },
 "nbformat": 4,
 "nbformat_minor": 5
}
