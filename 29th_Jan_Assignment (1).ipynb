{
 "cells": [
  {
   "cell_type": "markdown",
   "id": "130fdb2e-5fd2-4539-84d0-8e1978c3cfde",
   "metadata": {},
   "source": [
    "Q1. Who developed Python Programming Language?\n",
    "\n",
    "Ans. Guido van Rossum developed Python Programming Language in Late 1980s.\n",
    "\n"
   ]
  },
  {
   "cell_type": "markdown",
   "id": "b3f854b7-fae2-4e19-ac9c-8d7129ab17ea",
   "metadata": {},
   "source": [
    "Q2. Which type of Programming does Python Support?\n",
    "\n",
    "Ans. Python is an interpreted programming language, which supports object-oriented, structured, and functional programming.\n",
    "\n"
   ]
  },
  {
   "cell_type": "markdown",
   "id": "dc53a34e-6170-436d-8fb2-bf6063cdb740",
   "metadata": {},
   "source": [
    "Q3. Is Python case sensitive when dealing with identifiers?\n",
    "\n",
    "Ans. Yes, Python is case sensitive when dealing with identifiers\n",
    "\n"
   ]
  },
  {
   "cell_type": "markdown",
   "id": "f4c37111-f65d-4196-8726-8a1d509617a3",
   "metadata": {},
   "source": [
    "Q4.What is the correct Extension of Python file ?\n",
    "\n",
    "Ans. Extension of python file is .py|\n",
    "    "
   ]
  },
  {
   "cell_type": "markdown",
   "id": "2049bf49-c514-4ec2-b3f9-475b2b9b5f96",
   "metadata": {},
   "source": [
    "Q5. Is python is compiled or interpreted?\n",
    "\n",
    "Ans. Python is interpreted Language\n"
   ]
  },
  {
   "cell_type": "markdown",
   "id": "8e81321d-e518-48c9-8137-6503b350ee8a",
   "metadata": {},
   "source": [
    "Q6. Name a few block of code used to define in Python Language.\n",
    "\n",
    "Ans. \n",
    "\n",
    "for i in range (200):\n",
    "     print(\"Hi , I am Prahlad Kumar kushwaha\")\n",
    "     \n",
    "     print(\"good Morning\")\n",
    "     \n",
    "     \n",
    "     "
   ]
  },
  {
   "cell_type": "markdown",
   "id": "b8f1f504-6011-47c3-a236-46b893270e3d",
   "metadata": {},
   "source": [
    "Q7. State the charater used to give single line comment in Python .\n",
    "\n",
    "Ans. Hash(#) is used to comment single line in pyhton\n"
   ]
  },
  {
   "cell_type": "markdown",
   "id": "3f23a772-ec0e-4f74-8616-c8441086e15a",
   "metadata": {},
   "source": [
    "Q8.Mention the function which can help us to find the python version that we are currently using.\n",
    "\n",
    "Ans. python_version() is used to find the version of python that we are currently using."
   ]
  },
  {
   "cell_type": "markdown",
   "id": "fd3f2ba4-5dc7-4f3f-83a2-b0fd4639e6f4",
   "metadata": {},
   "source": [
    "Q9. Python Supports the creation of anonymous function at runtime ,using  a cinstruct called ___________.\n",
    "\n",
    "Ans. Python Supports the creation of anonymous function at runtime ,using  a cinstruct called lambda."
   ]
  },
  {
   "cell_type": "markdown",
   "id": "77eb0ee2-7063-476a-970d-cfcb5ca86522",
   "metadata": {},
   "source": [
    "Q10. What does a pip stand for pyhton ?\n",
    "\n",
    "Ans. Preferred installer program\n"
   ]
  },
  {
   "cell_type": "markdown",
   "id": "b9e3e6b7-be3d-4793-9bc5-4a169bbbc4b1",
   "metadata": {},
   "source": [
    "Q11. Mention a few built-in Function in Pyhton ?\n",
    "\n",
    "Ans.  print()   \n",
    "      len()   \n",
    "      range()  \n",
    "      list()  \n",
    "      float()  \n",
    "      int()  \n",
    "      sort()  \n",
    "      str()  \n",
    "      set()  \n",
    "      tuple()  \n",
    "      \n",
    "      \n"
   ]
  },
  {
   "cell_type": "markdown",
   "id": "90494d34-6679-40ef-b9d9-66934296bbd2",
   "metadata": {},
   "source": [
    "Q12. What is the maximum possible length of an identifier in python?\n",
    "\n",
    "Ans. 79 characters"
   ]
  },
  {
   "cell_type": "markdown",
   "id": "b63a4bab-b0f1-496a-8782-d8f0fa52a383",
   "metadata": {},
   "source": [
    "Q13. What are the benefit of using Python?\n",
    "\n",
    "Ans. (i)Easy to learn    (ii)Easy to use   (iii) Imporve Productivity    (iv) Open Source    (v) Massive Library"
   ]
  },
  {
   "cell_type": "markdown",
   "id": "06f7e598-acbf-4af4-9053-65ccab1e0200",
   "metadata": {},
   "source": [
    "Q14. How memory is managed in Python?\n",
    "\n",
    "Ans. Memory management in Python involves a private heap containing all Python objects and data structures. The management of this private heap is ensured internally by the Python memory manager. The Python memory manager has different components which deal with various dynamic storage management aspects, like sharing, segmentation, preallocation or caching."
   ]
  },
  {
   "cell_type": "markdown",
   "id": "3f23e172-1a77-4fe5-baac-a70806b517b5",
   "metadata": {},
   "source": [
    "Q15. How to install Python on window and set path variables?\n",
    "\n",
    "Ans. \n",
    "\n",
    "To install Python on Windows, follow these steps:\n",
    "\n",
    "Download the Python installer from the official Python website (https://www.python.org/downloads/).\n",
    "\n",
    "Run the installer and follow the on-screen instructions. Make sure to select the option to add Python to your PATH environment variable.\n",
    "\n",
    "\n",
    "\n",
    "To set the PATH environment variable, follow these steps:\n",
    "\n",
    "Open the Start menu and search for \"Environment Variables\".\n",
    "\n",
    "Click on \"Edit the system environment variables\".\n",
    "\n",
    "In the System Properties window, click on the \"Environment Variables\" button.\n",
    "\n",
    "Under \"System Variables\", scroll down and find the \"Path\" variable, then click on \"Edit\".\n",
    "\n",
    "Click on \"New\" and add the path to the Python installation, e.g., C:\\Python36\\.\n",
    "\n",
    "Close all open windows and restart your computer."
   ]
  },
  {
   "cell_type": "markdown",
   "id": "7eb51309-2f27-4786-a049-2483e020b9be",
   "metadata": {},
   "source": [
    "Q16. Is indentation required in Python.\n",
    "\n",
    "Ans. Yes, indentation is very important in Pyhton to define the block of code becauuse python doesn't  support curly braces{} as other language do, to define the block of code."
   ]
  }
 ],
 "metadata": {
  "kernelspec": {
   "display_name": "Python 3 (ipykernel)",
   "language": "python",
   "name": "python3"
  },
  "language_info": {
   "codemirror_mode": {
    "name": "ipython",
    "version": 3
   },
   "file_extension": ".py",
   "mimetype": "text/x-python",
   "name": "python",
   "nbconvert_exporter": "python",
   "pygments_lexer": "ipython3",
   "version": "3.10.8"
  }
 },
 "nbformat": 4,
 "nbformat_minor": 5
}
