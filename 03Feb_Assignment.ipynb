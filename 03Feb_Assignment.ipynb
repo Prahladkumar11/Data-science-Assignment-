{
 "cells": [
  {
   "cell_type": "markdown",
   "id": "79866f0d-dc76-401a-9753-3a8042581e72",
   "metadata": {},
   "source": [
    "Q1. Which keyword is used to create a function? Create a function to return a list of odd numbers in the\n",
    "range of 1 to 25."
   ]
  },
  {
   "cell_type": "code",
   "execution_count": 1,
   "id": "ebcd00b7-4c80-4fde-bdf7-40fb51ecbcaa",
   "metadata": {},
   "outputs": [],
   "source": [
    "# Ans 1.\n",
    "\n",
    "# def keyword is used to create a funtions in python .\n",
    "\n",
    "def odd(n):\n",
    "    list1=[i for i in range(1,n+1) if i%2!=0]\n",
    "    \n",
    "    return list1\n",
    "\n",
    "n=125\n",
    "print(odd(n))"
   ]
  },
  {
   "cell_type": "markdown",
   "id": "3347b478-5f8a-406d-8d99-dff31339277b",
   "metadata": {},
   "source": [
    "Q2. Why *args and **kwargs is used in some functions? Create a function each for *args and **kwargs\n",
    "to demonstrate their use.\n",
    "\n",
    "Ans. \n",
    "    *args in function definitions in python is used to pass a variable number of arguments to a function. It is          used to pass a non-key worded, variable-length argument list. \n",
    "        \n",
    "    Ex:-    \n",
    "        \n",
    "        def fun_name(*argv):\n",
    "            for arg in argv:\n",
    "                print(arg)\n",
    " \n",
    " \n",
    "        myFun('Hello', 'I', 'am', 'Prahlad kr')\n",
    "        \n",
    "        \n",
    "    Output:-\n",
    "    \n",
    "        Hello\n",
    "        I\n",
    "        am\n",
    "        Prahlad kr\n",
    "        \n",
    "        \n",
    "        \n",
    "  *kwargs in function definitions in python is used to pass a keyworded, variable-length argument list. We use the name kwargs with the double star. The reason is that the double star allows us to pass through keyword arguments (and any number of them)\n",
    "  \n",
    "          \n",
    "        Ex:-\n",
    "        \n",
    "            def myFun(arg1, **kwargs):\n",
    "                for key, value in kwargs.items():\n",
    "                    print(\"%s == %s\" % (key, value))\n",
    " \n",
    "            myFun(\"Hi\", first='Prahlad', mid='kumar', last='Kushwaha')\n",
    "            \n",
    "            \n",
    "            "
   ]
  },
  {
   "cell_type": "markdown",
   "id": "e41f54ee-85f3-4fe3-b2bd-255ac1eae1b2",
   "metadata": {},
   "source": [
    "Q3. What is an iterator in python? Name the method used to initialise the iterator object and the method\n",
    "used for iteration. Use these methods to print the first five elements of the given list [2, 4, 6, 8, 10, 12, 14,\n",
    "16, 18, 20].\n",
    "\n",
    "Ans. \n",
    "\n",
    "Iterator in Python is an object that is used to iterate over iterable objects like lists, tuples, dicts, and sets. The iterator object is initialized using the iter() method. It uses the next() method for iteration."
   ]
  },
  {
   "cell_type": "code",
   "execution_count": 2,
   "id": "b87d903e-3e98-4c21-8f5e-b50e21c22c22",
   "metadata": {},
   "outputs": [
    {
     "name": "stdout",
     "output_type": "stream",
     "text": [
      "2\n",
      "4\n",
      "6\n",
      "8\n",
      "10\n"
     ]
    }
   ],
   "source": [
    "\n",
    "List1 = [2, 4, 6, 8, 10, 12, 14, 16, 18, 20]\n",
    "iterator = iter(List1)\n",
    "for i in range(5):\n",
    "    print(next(iterator))\n"
   ]
  },
  {
   "cell_type": "markdown",
   "id": "a289ab85-be06-46ff-b409-b9f6fb3ebeb7",
   "metadata": {},
   "source": [
    "Q4. What is a generator function in python? Why yield keyword is used? Give an example of a generator\n",
    "function.\n",
    "\n",
    "Ans. \n",
    "\n",
    "    Generator functions are those functions that, instead of returning a single value, return an iterable generator object. You can access or read the values returned from the generator function stored inside a generator object one-by-one using a simple loop or using next() or list() methods.\n",
    "    \n",
    "    \n",
    "    Yield keyword is used to create a generator function. A type of function that is memory efficient and can be used like an iterator object.\n",
    "    \n"
   ]
  },
  {
   "cell_type": "code",
   "execution_count": 2,
   "id": "0327c9cd-5f19-4407-91f0-9bae1f80e828",
   "metadata": {},
   "outputs": [
    {
     "name": "stdout",
     "output_type": "stream",
     "text": [
      "0\n",
      "1\n",
      "2\n"
     ]
    }
   ],
   "source": [
    "# Example\n",
    "\n",
    "def my_generator(n):\n",
    "\n",
    "    value = 0\n",
    "    while value < n:\n",
    "\n",
    "        yield value\n",
    "\n",
    "\n",
    "        value += 1\n",
    "for value in my_generator(3):\n",
    "\n",
    "    print(value)"
   ]
  },
  {
   "cell_type": "markdown",
   "id": "0c92c37e-30c6-4583-8105-aa4a1d691d20",
   "metadata": {},
   "source": [
    "Q5. Create a generator function for prime numbers less than 1000. Use the next() method to print the\n",
    "first 20 prime numbers."
   ]
  },
  {
   "cell_type": "code",
   "execution_count": 3,
   "id": "555f283a-ef3b-43a1-a27f-ca442dd5ae70",
   "metadata": {},
   "outputs": [
    {
     "name": "stdout",
     "output_type": "stream",
     "text": [
      "2\n",
      "3\n",
      "5\n",
      "7\n",
      "11\n",
      "13\n",
      "17\n",
      "19\n",
      "23\n",
      "29\n",
      "31\n",
      "37\n",
      "41\n",
      "43\n",
      "47\n",
      "53\n",
      "59\n",
      "61\n",
      "67\n",
      "71\n"
     ]
    }
   ],
   "source": [
    "# Ans.5\n",
    "\n",
    "def get_primes():\n",
    "    yield 2\n",
    "    primes = [2]\n",
    "    num = 3\n",
    "    while num < 1000:\n",
    "        is_prime = True\n",
    "        for prime in primes:\n",
    "            if prime > num**(1/2):\n",
    "                break\n",
    "            if num % prime == 0:\n",
    "                is_prime = False\n",
    "                break\n",
    "        if is_prime:\n",
    "            primes.append(num)\n",
    "            yield num\n",
    "        num += 2\n",
    "\n",
    "primes_gen = get_primes()\n",
    "\n",
    "for i in range(20):\n",
    "    print(next(primes_gen))\n"
   ]
  },
  {
   "cell_type": "markdown",
   "id": "5a89c0c4-7751-46a2-83a1-c531d81d8de8",
   "metadata": {},
   "source": [
    "Q6. Write a python program to print the first 10 Fibonacci numbers using a while loop."
   ]
  },
  {
   "cell_type": "code",
   "execution_count": 4,
   "id": "2215a7c6-ed64-41ce-97b0-b50ac0f6a30f",
   "metadata": {},
   "outputs": [
    {
     "name": "stdout",
     "output_type": "stream",
     "text": [
      "0\n",
      "1\n",
      "1\n",
      "2\n",
      "3\n",
      "5\n",
      "8\n",
      "13\n",
      "21\n",
      "34\n"
     ]
    }
   ],
   "source": [
    "# Ans.6\n",
    "\n",
    "\n",
    "a, b = 0, 1\n",
    "count = 0\n",
    "while count < 10:\n",
    "    print(a)\n",
    "    a, b = b, a + b\n",
    "    count += 1\n"
   ]
  },
  {
   "cell_type": "markdown",
   "id": "a2550af1-2101-41a6-90c2-f0188ee6a734",
   "metadata": {},
   "source": [
    "Q7. Write a List Comprehension to iterate through the given string: ‘pwskills’.\n",
    "Expected output: ['p', 'w', 's', 'k', 'i', 'l', 'l', 's']\n"
   ]
  },
  {
   "cell_type": "code",
   "execution_count": 5,
   "id": "d3e5e27f-f76f-424c-82f5-c33423de81b2",
   "metadata": {},
   "outputs": [
    {
     "name": "stdout",
     "output_type": "stream",
     "text": [
      "['p', 'w', 's', 'k', 'i', 'l', 'l', 's']\n"
     ]
    }
   ],
   "source": [
    "# Ans.7\n",
    "\n",
    "string = 'pwskills'\n",
    "result = [char for char in string]\n",
    "print(result)\n"
   ]
  },
  {
   "cell_type": "markdown",
   "id": "d824829e-b1ae-4b64-a433-4d4efd7d47c5",
   "metadata": {},
   "source": [
    "Q8. Write a python program to check whether a given number is Palindrome or not using a while loop."
   ]
  },
  {
   "cell_type": "code",
   "execution_count": 13,
   "id": "ed8466c4-cfa7-4537-9ea2-cb24abbc2438",
   "metadata": {},
   "outputs": [
    {
     "name": "stdout",
     "output_type": "stream",
     "text": [
      "The number is Palindrome 12321\n"
     ]
    }
   ],
   "source": [
    "# Ans.8\n",
    "\n",
    "num=\"12321\"\n",
    "\n",
    "rev_num=\"\"\n",
    "for i in num:\n",
    "    rev_num=i+rev_num\n",
    "    \n",
    "if rev_num==num:\n",
    "    print('The number is Palindrome',rev_num)\n",
    "    \n",
    "else:\n",
    "    print(\"The Number is not Palindrome\",rev_num)\n",
    "        "
   ]
  },
  {
   "cell_type": "markdown",
   "id": "8852b8d3-7b18-4d72-aa99-ee925f0ca0b3",
   "metadata": {},
   "source": [
    "Q9. Write a code to print odd numbers from 1 to 100 using list comprehension."
   ]
  },
  {
   "cell_type": "code",
   "execution_count": 16,
   "id": "c54f7175-2133-4179-bcac-cec1cfdc3588",
   "metadata": {},
   "outputs": [
    {
     "name": "stdout",
     "output_type": "stream",
     "text": [
      "[1, 3, 5, 7, 9, 11, 13, 15, 17, 19, 21, 23, 25, 27, 29, 31, 33, 35, 37, 39, 41, 43, 45, 47, 49, 51, 53, 55, 57, 59, 61, 63, 65, 67, 69, 71, 73, 75, 77, 79, 81, 83, 85, 87, 89, 91, 93, 95, 97, 99]\n"
     ]
    }
   ],
   "source": [
    "# Ans.9\n",
    "\n",
    "list1=[i for i in range(1,101)]\n",
    "list2=[odd for odd in filter(lambda x:x%2!=0,list1)]\n",
    "print(list2)"
   ]
  }
 ],
 "metadata": {
  "kernelspec": {
   "display_name": "Python 3 (ipykernel)",
   "language": "python",
   "name": "python3"
  },
  "language_info": {
   "codemirror_mode": {
    "name": "ipython",
    "version": 3
   },
   "file_extension": ".py",
   "mimetype": "text/x-python",
   "name": "python",
   "nbconvert_exporter": "python",
   "pygments_lexer": "ipython3",
   "version": "3.10.8"
  }
 },
 "nbformat": 4,
 "nbformat_minor": 5
}
