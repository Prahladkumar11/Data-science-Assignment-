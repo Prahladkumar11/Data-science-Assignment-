{
 "cells": [
  {
   "cell_type": "markdown",
   "id": "a4557860-ffe2-4e56-806d-46175b5b7096",
   "metadata": {},
   "source": [
    "Q1. Explain with an example each when to use a for loop and a while loop.\n",
    "\n",
    "Ans. \n",
    "\n",
    "For Loop:\n",
    "\n",
    "    For Loop is used to execute the statement inside it for predefined number of iteration.\n",
    "    \n",
    "    Ex.         for i in range(10):\n",
    "                    print(i)\n",
    "                    \n",
    "        Output : 1\n",
    "                 2\n",
    "                 3\n",
    "                 4\n",
    "                 5\n",
    "                 6\n",
    "                 7\n",
    "                 8\n",
    "                 9\n",
    "                 \n",
    "While Loop :\n",
    "    \n",
    "        While loop is used when Number of iteration is not Known.\n",
    "        it check the conditon every time at start of loop.\n",
    "        if condition satified then the statement executed. Otherwise, it ended the loop.\n",
    "        \n",
    "        Ex.    i=0\n",
    "               while i<10 :\n",
    "                   print(i)\n",
    "                   \n",
    "        Output :\n",
    "        \n",
    "                    0\n",
    "                    1\n",
    "                    2\n",
    "                    3\n",
    "                    4\n",
    "                    5\n",
    "                    6\n",
    "                    7\n",
    "                    8\n",
    "                    9"
   ]
  },
  {
   "cell_type": "markdown",
   "id": "f437ef60-dd19-4dea-bee2-4f1cb6657f52",
   "metadata": {},
   "source": [
    "Q2.Write a python program to print the sum and product of the first 10 natural numbers using for and while loop.\n",
    "\n",
    "Ans:\n",
    "\n",
    "Using for Loop:\n",
    "    \n",
    "    SUM:\n",
    "        \n",
    "        sum=0\n",
    "        for i in range(1,11):\n",
    "            sum+=i\n",
    "            \n",
    "        print(sum)\n",
    "        \n",
    "    PRODUCT:\n",
    "        \n",
    "            product=1\n",
    "            for i in range(1,11):\n",
    "                product*=i\n",
    "                \n",
    "            print(product)\n",
    "            \n",
    "\n",
    "Using While Loop:\n",
    "    \n",
    "    \n",
    "\n",
    "    Sum:\n",
    "        \n",
    "        sum,i=0,0\n",
    "        while i<11:\n",
    "            sum+=i\n",
    "            i+=1\n",
    "            \n",
    "        print(sum)\n",
    "        \n",
    "    Product:\n",
    "        \n",
    "             \n",
    "            product,i=1,0\n",
    "            while i<11:\n",
    "                product*=i\n",
    "                i+=1\n",
    "                \n",
    "            print(product)\n",
    "        \n",
    "        \n"
   ]
  },
  {
   "cell_type": "markdown",
   "id": "43e3f2ac-ade7-4313-9d20-642dd7f4da9d",
   "metadata": {
    "tags": []
   },
   "source": [
    "Q3. Create a python program to compute the electricity bill for a household.\n",
    "The per-unit charges in rupees are as follows: For the first 100 units, the user will be charged Rs. 4.5 per\n",
    "unit, for the next 100 units, the user will be charged Rs. 6 per unit, and for the next 100 units, the user will\n",
    "be charged Rs. 10 per unit, After 300 units and above the user will be charged Rs. 20 per unit.\n",
    "You are required to take the units of electricity consumed in a month from the user as input.\n",
    "Your program must pass this test case: when the unit of electricity consumed by the user in a month is\n",
    "310, the total electricity bill should be 2250."
   ]
  },
  {
   "cell_type": "code",
   "execution_count": null,
   "id": "a24c463b-ae2b-461a-ab97-3b4f7db2a8d8",
   "metadata": {},
   "outputs": [],
   "source": [
    "# Ans 3.\n",
    "\n",
    "unit=int(input(\"Enter the Consumed Unit\"))\n",
    "\n",
    "if unit<=100:\n",
    "    bill=unit*4.5\n",
    "    print('Your Electric Bill is Rs.',bill)\n",
    "elif 100<unit<=200:\n",
    "    bill=450+(unit-100)*6\n",
    "    print('Your Electric Bill is Rs.',bill)\n",
    "elif 200<unit<=300:\n",
    "    bill=450+600+(unit-200)*10\n",
    "    print('Your Electric Bill is Rs.',bill)\n",
    "else:\n",
    "    bill=450+600+1000+(unit-300)*20\n",
    "    print('Your Electric Bill is Rs.',bill)\n"
   ]
  },
  {
   "cell_type": "markdown",
   "id": "fef3f525-b264-4efa-9d29-193afb52bade",
   "metadata": {},
   "source": [
    "Q4. Create a list of numbers from 1 to 100. Use for loop and while loop to calculate the cube of each\n",
    "number and if the cube of that number is divisible by 4 or 5 then append that number in a list and print\n",
    "that list."
   ]
  },
  {
   "cell_type": "code",
   "execution_count": null,
   "id": "2f081eec-4dee-4131-b8ce-ec5f63273539",
   "metadata": {},
   "outputs": [
    {
     "name": "stdout",
     "output_type": "stream",
     "text": [
      "list2:  [2, 4, 5, 6, 8, 10, 12, 14, 15, 16, 18, 20, 22, 24, 25, 26, 28, 30, 32, 34, 35, 36, 38, 40, 42, 44, 45, 46, 48, 50, 52, 54, 55, 56, 58, 60, 62, 64, 65, 66, 68, 70, 72, 74, 75, 76, 78, 80, 82, 84, 85, 86, 88, 90, 92, 94, 95, 96, 98, 100]\n"
     ]
    }
   ],
   "source": [
    "# Ans 4. \n",
    "\n",
    "# USING FOR lOOP\n",
    "\n",
    "\n",
    "list1=[i for i in range(1,101)]\n",
    "list2=[]\n",
    "for i in list1:\n",
    "    if i**3%4==0 or i**3%5 ==0 :\n",
    "        list2.append(i)\n",
    "print(\"list2: \",list2)\n",
    "\n",
    "\n",
    "\n",
    "\n",
    "\n",
    "# USING WHILE LOOP\n",
    "\n",
    "\n",
    "list3=[i for i in range(1,101)]\n",
    "list4=[]\n",
    "\n",
    "i=1\n",
    "\n",
    "while i<=len(list3):\n",
    "     if i**3%4==0 or i**3%5 ==0 :\n",
    "        list4.append(i)\n",
    "print(\"list4: :\",list4)\n",
    "    \n"
   ]
  },
  {
   "cell_type": "markdown",
   "id": "42e90b76-7a2d-4182-ba55-c391636229db",
   "metadata": {},
   "source": [
    "Q5.Write a program to filter count vowels in the below-given string.\n",
    "string = \"I want to become a data scientist\""
   ]
  },
  {
   "cell_type": "code",
   "execution_count": null,
   "id": "48397983-77b2-49ce-95ce-54fbf53a3c20",
   "metadata": {},
   "outputs": [],
   "source": [
    "# Ans 5.\n",
    "\n",
    "\n",
    "count=0\n",
    "for i in  \"I want to become a data scientist\":\n",
    "    if i.lower() in ['a','e','i','o','u']:\n",
    "        count+=1\n",
    "        \n",
    "print(count)\n",
    "        "
   ]
  }
 ],
 "metadata": {
  "kernelspec": {
   "display_name": "Python 3 (ipykernel)",
   "language": "python",
   "name": "python3"
  },
  "language_info": {
   "codemirror_mode": {
    "name": "ipython",
    "version": 3
   },
   "file_extension": ".py",
   "mimetype": "text/x-python",
   "name": "python",
   "nbconvert_exporter": "python",
   "pygments_lexer": "ipython3",
   "version": "3.10.8"
  },
  "toc-autonumbering": true
 },
 "nbformat": 4,
 "nbformat_minor": 5
}
