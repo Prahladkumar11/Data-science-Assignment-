{
 "cells": [
  {
   "cell_type": "markdown",
   "id": "25604bd3-08f5-4372-8814-aa34b219873e",
   "metadata": {},
   "source": [
    "Q1. Create a python program to sort the given list of tuples based on integer value using a\n",
    "lambda function.\n",
    "[('Sachin Tendulkar', 34357), ('Ricky Ponting', 27483), ('Jack Kallis', 25534), ('Virat Kohli', 24936)]\n"
   ]
  },
  {
   "cell_type": "code",
   "execution_count": 10,
   "id": "7df7a476-5ca9-4d2d-82e3-7e915198e25f",
   "metadata": {},
   "outputs": [
    {
     "name": "stdout",
     "output_type": "stream",
     "text": [
      "Sorted list based on integer value:  [('Virat Kohli', 24936), ('Jack Kallis', 25534), ('Ricky Ponting', 27483), ('Sachin Tendulkar', 34357)]\n"
     ]
    }
   ],
   "source": [
    "# Ans1. \n",
    "\n",
    "lst = [('Sachin Tendulkar', 34357), ('Ricky Ponting', 27483), ('Jack Kallis', 25534), ('Virat Kohli', 24936)]\n",
    "\n",
    "sorted_list = sorted(lst, key=lambda x: x[1])\n",
    "\n",
    "print(\"Sorted list based on integer value: \", sorted_list)\n",
    "\n"
   ]
  },
  {
   "cell_type": "markdown",
   "id": "3d09e0c4-fb25-4cf4-8b09-b560adbb3b5e",
   "metadata": {},
   "source": [
    "Q2. Write a Python Program to find the squares of all the numbers in the given list of integers using\n",
    "lambda and map functions.\n",
    "[1, 2, 3, 4, 5, 6, 7, 8, 9, 10]"
   ]
  },
  {
   "cell_type": "code",
   "execution_count": 11,
   "id": "5c1c32af-58d4-498b-a29e-5b2c0183f4b6",
   "metadata": {},
   "outputs": [
    {
     "data": {
      "text/plain": [
       "[1, 4, 9, 16, 25, 36, 49, 64, 81, 100]"
      ]
     },
     "execution_count": 11,
     "metadata": {},
     "output_type": "execute_result"
    }
   ],
   "source": [
    "# Ans2.\n",
    "\n",
    "l1= [1, 2, 3, 4, 5, 6, 7, 8, 9, 10]\n",
    "\n",
    "l2=list(map(lambda x:x**2,l1))\n",
    "l2"
   ]
  },
  {
   "cell_type": "markdown",
   "id": "bcc6cb7b-32bd-4347-8c0b-2a75e49099bc",
   "metadata": {},
   "source": [
    "Q3.Write a python program to convert the given list of integers into a tuple of strings. Use map and\n",
    "lambda functions            \n",
    "Given String: [1, 2, 3, 4, 5, 6, 7, 8, 9, 10]         \n",
    "Expected output: ('1', '2', '3', '4', '5', '6', '7', '8', '9', '10')"
   ]
  },
  {
   "cell_type": "code",
   "execution_count": 18,
   "id": "2849ff70-9b80-4f53-a342-62ad85b942e1",
   "metadata": {},
   "outputs": [
    {
     "data": {
      "text/plain": [
       "('1', '2', '3', '4', '5', '6', '7', '8', '9', '10')"
      ]
     },
     "execution_count": 18,
     "metadata": {},
     "output_type": "execute_result"
    }
   ],
   "source": [
    "l1=[1, 2, 3, 4, 5, 6, 7, 8, 9, 10]\n",
    "l2=tuple(map(lambda x:str(x),l1))\n",
    "l2"
   ]
  },
  {
   "cell_type": "markdown",
   "id": "9f141bc6-6f1e-488b-a1c2-747cb50a9292",
   "metadata": {},
   "source": [
    "Q4. Write a python program using reduce function to compute the product of a list containing numbers\n",
    "from 1 to 25.\n"
   ]
  },
  {
   "cell_type": "code",
   "execution_count": 20,
   "id": "3ca96e86-8dbd-4645-b177-8918748ac070",
   "metadata": {},
   "outputs": [
    {
     "name": "stdout",
     "output_type": "stream",
     "text": [
      "15511210043330985984000000\n"
     ]
    }
   ],
   "source": [
    "# Ans4. \n",
    "from functools import reduce\n",
    "\n",
    "numbers=[i for i in range(1,26)]\n",
    "\n",
    "product = reduce(lambda x, y: x * y, numbers)\n",
    "print(product)\n"
   ]
  },
  {
   "cell_type": "markdown",
   "id": "bffd8af3-74a6-4f9d-a92a-0aec1ec6ec2d",
   "metadata": {},
   "source": [
    "Q5. Write a python program to filter the numbers in a given list that are divisible by 2 and 3 using the\n",
    "filter function.\n",
    "\n",
    "[2, 3, 6, 9, 27, 60, 90, 120, 55, 46]"
   ]
  },
  {
   "cell_type": "code",
   "execution_count": 21,
   "id": "b7f5633b-fe35-4e97-a87b-d0a1eb5e7b65",
   "metadata": {},
   "outputs": [
    {
     "data": {
      "text/plain": [
       "[6, 60, 90, 120]"
      ]
     },
     "execution_count": 21,
     "metadata": {},
     "output_type": "execute_result"
    }
   ],
   "source": [
    "# Ans5.\n",
    "\n",
    "l1=[2, 3, 6, 9, 27, 60, 90, 120, 55, 46]\n",
    "\n",
    "l2=list(filter(lambda x:x%2 ==0 and x%3==0 ,l1))\n",
    "l2"
   ]
  },
  {
   "cell_type": "markdown",
   "id": "e8e28c1f-0a5c-4311-9b89-5867caeb3545",
   "metadata": {},
   "source": [
    "Q6. Write a python program to find palindromes in the given list of strings using lambda and filter\n",
    "function.\n",
    "\n",
    "\n",
    "['python', 'php', 'aba', 'radar', 'level']"
   ]
  },
  {
   "cell_type": "code",
   "execution_count": 24,
   "id": "7a9853a4-fa01-4145-bf5b-e7883ecde252",
   "metadata": {},
   "outputs": [
    {
     "data": {
      "text/plain": [
       "['php', 'aba', 'radar', 'level']"
      ]
     },
     "execution_count": 24,
     "metadata": {},
     "output_type": "execute_result"
    }
   ],
   "source": [
    "# Ans 6.\n",
    "\n",
    "# def palindrome(x):\n",
    "    \n",
    "    \n",
    "l1=['python', 'php', 'aba', 'radar', 'level']\n",
    "l2=list(filter(lambda x: x==x[::-1],l1))\n",
    "l2"
   ]
  }
 ],
 "metadata": {
  "kernelspec": {
   "display_name": "Python 3 (ipykernel)",
   "language": "python",
   "name": "python3"
  },
  "language_info": {
   "codemirror_mode": {
    "name": "ipython",
    "version": 3
   },
   "file_extension": ".py",
   "mimetype": "text/x-python",
   "name": "python",
   "nbconvert_exporter": "python",
   "pygments_lexer": "ipython3",
   "version": "3.10.8"
  }
 },
 "nbformat": 4,
 "nbformat_minor": 5
}
