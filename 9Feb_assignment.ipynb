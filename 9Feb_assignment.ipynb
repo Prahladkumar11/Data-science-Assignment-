{
 "cells": [
  {
   "cell_type": "markdown",
   "id": "c969cff3-17cb-48bf-862d-f764c73b8601",
   "metadata": {},
   "source": [
    "Q1, Create a vehicle class with an init method having instance variables as name_of_vehicle, max_speed\n",
    "and average_of_vehicle."
   ]
  },
  {
   "cell_type": "code",
   "execution_count": 1,
   "id": "d217ffc8-05ec-45c6-bbf9-01956174e1ec",
   "metadata": {},
   "outputs": [],
   "source": [
    "class Vehicle:\n",
    "    def __init__(self, name_of_vehicle, max_speed, average_of_vehicle):\n",
    "        self.name_of_vehicle = name_of_vehicle\n",
    "        self.max_speed = max_speed\n",
    "        self.average_of_vehicle = average_of_vehicle\n"
   ]
  },
  {
   "cell_type": "markdown",
   "id": "4f7289af-bb9e-4c9a-b6c0-f7874f45b33e",
   "metadata": {},
   "source": [
    "Q2. Create a child class car from the vehicle class created in Que 1, which will inherit the vehicle class.\n",
    "Create a method named seating_capacity which takes capacity as an argument and returns the name of\n",
    "the vehicle and its seating capacity."
   ]
  },
  {
   "cell_type": "code",
   "execution_count": 2,
   "id": "7d5086f3-abc6-4e35-a2fd-5221b83268c2",
   "metadata": {},
   "outputs": [],
   "source": [
    "class Car(Vehicle):\n",
    "    def seating_capacity(self, capacity):\n",
    "        return f\"{self.name_of_vehicle} with seating capacity of {capacity}\"\n"
   ]
  },
  {
   "cell_type": "markdown",
   "id": "3e83c8f7-fd60-4c9c-85b9-15f074f2259f",
   "metadata": {},
   "source": [
    "Q3. What is multiple inheritance? Write a python code to demonstrate multiple inheritance.\n",
    "\n",
    "Ans.\n",
    "\n",
    "        Multiple inheritance is a feature of object-oriented programming that allows a class to inherit attributes and methods from multiple parent classes. In other words, a child class can inherit from more than one parent class, gaining all the attributes and methods of each parent class."
   ]
  },
  {
   "cell_type": "code",
   "execution_count": null,
   "id": "bdf6ec29-f070-4e3d-aa07-8802f65d7deb",
   "metadata": {},
   "outputs": [],
   "source": [
    "\n",
    "# for example\n",
    "\n",
    "class Parent1:\n",
    "    def method1(self):\n",
    "        print(\"Parent 1 Method\")\n",
    "\n",
    "class Parent2:\n",
    "    def method2(self):\n",
    "        print(\"Parent 2 Method\")\n",
    "\n",
    "class Child(Parent1, Parent2):\n",
    "    pass\n",
    "\n",
    "c = Child()\n",
    "c.method1() # Output: Parent 1 Method\n",
    "c.method2() # Output: Parent 2 Method\n"
   ]
  },
  {
   "cell_type": "markdown",
   "id": "81f3cb2a-cbaa-4b6c-bdf4-b19341957d84",
   "metadata": {},
   "source": [
    "Q4. What are getter and setter in python? Create a class and create a getter and a setter method in this\n",
    "class.\n",
    "\n",
    "Ans.\n",
    "        Getters and setters are methods in Python that allow you to access and modify the value of an object's instance variable. Getters are used to retrieve the value of an instance variable, while setters are used to set the value of an instance variable. Getters and setters allow you to define the behavior of accessing and modifying an instance variable, making it easier to maintain the integrity of the object's data."
   ]
  },
  {
   "cell_type": "code",
   "execution_count": 3,
   "id": "0c258ea7-07ec-4320-9a09-d0f612c6938d",
   "metadata": {},
   "outputs": [
    {
     "name": "stdout",
     "output_type": "stream",
     "text": [
      "John\n",
      "Jane\n"
     ]
    }
   ],
   "source": [
    "\n",
    "# for example\n",
    "\n",
    "class Person:\n",
    "    def __init__(self, name):\n",
    "        self._name = name\n",
    "\n",
    "    def get_name(self):\n",
    "        return self._name\n",
    "\n",
    "    def set_name(self, name):\n",
    "        self._name = name\n",
    "\n",
    "    name = property(get_name, set_name)\n",
    "\n",
    "person = Person(\"John\")\n",
    "print(person.name) # Output: John\n",
    "person.name = \"Jane\"\n",
    "print(person.name) # Output: Jane\n"
   ]
  },
  {
   "cell_type": "raw",
   "id": "f1fcdb45-c5a2-4861-a64d-b4448f993725",
   "metadata": {},
   "source": [
    "Q5.What is method overriding in python? Write a python code to demonstrate method overriding.\n",
    "\n",
    "Ans.\n",
    "\n",
    "    Method overriding in Python is a feature of object-oriented programming that allows you to replace the implementation of a method in a subclass with a new implementation that is specific to the subclass. The purpose of method overriding is to provide a specific behavior for an operation that is different from the behavior of the same operation in the superclass.\n",
    "    "
   ]
  },
  {
   "cell_type": "code",
   "execution_count": 4,
   "id": "859c6b17-5e30-45fe-ae59-5af27fb97c18",
   "metadata": {},
   "outputs": [
    {
     "name": "stdout",
     "output_type": "stream",
     "text": [
      "78.5\n",
      "25\n"
     ]
    }
   ],
   "source": [
    "\n",
    "# for example\n",
    "\n",
    "class Shape:\n",
    "    def area(self):\n",
    "        pass\n",
    "\n",
    "class Circle(Shape):\n",
    "    def __init__(self, radius):\n",
    "        self.radius = radius\n",
    "\n",
    "    def area(self):\n",
    "        return 3.14 * self.radius * self.radius\n",
    "\n",
    "class Square(Shape):\n",
    "    def __init__(self, side):\n",
    "        self.side = side\n",
    "\n",
    "    def area(self):\n",
    "        return self.side * self.side\n",
    "\n",
    "circle = Circle(5)\n",
    "print(circle.area()) # Output: 78.5\n",
    "\n",
    "square = Square(5)\n",
    "print(square.area()) # Output: 25\n",
    "\n",
    "\n",
    "\n",
    "\n"
   ]
  },
  {
   "cell_type": "markdown",
   "id": "99d0bbab-28a2-47b7-a221-0982c8a5443b",
   "metadata": {},
   "source": [
    "In this example, the Shape class has an abstract method area that does not have an implementation. The Circle and Square classes inherit from the Shape class and provide their own implementation for the area method. When we call the area method on an instance of the Circle or Square class, it returns the area of the corresponding shape."
   ]
  }
 ],
 "metadata": {
  "kernelspec": {
   "display_name": "Python 3 (ipykernel)",
   "language": "python",
   "name": "python3"
  },
  "language_info": {
   "codemirror_mode": {
    "name": "ipython",
    "version": 3
   },
   "file_extension": ".py",
   "mimetype": "text/x-python",
   "name": "python",
   "nbconvert_exporter": "python",
   "pygments_lexer": "ipython3",
   "version": "3.10.8"
  }
 },
 "nbformat": 4,
 "nbformat_minor": 5
}
