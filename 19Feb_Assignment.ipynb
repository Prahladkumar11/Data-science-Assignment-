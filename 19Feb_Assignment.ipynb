{
 "cells": [
  {
   "cell_type": "markdown",
   "id": "40aa4912-6d4a-4091-b298-3ef2a8cc1fce",
   "metadata": {},
   "source": [
    "Q1. What is Flask Framework? What are the advantages of Flask Framework?\n",
    "\n",
    "Ans 1.Flask is a micro web framework written in Python. It is classified as a microframework because it does not require particular tools or libraries. Flask aims to keep the core of the application simple yet extensible. Flask has become popular among developers due to its simplicity, flexibility, and ease of use.\n",
    "\n",
    "Advantages of Flask include:\n",
    "\n",
    "1.Lightweight: Flask is a lightweight framework, making it easy to learn and use.\n",
    "\n",
    "2.Flexibility: Flask allows developers to choose the components they want to use, which makes it a flexible framework for building web applications.\n",
    "\n",
    "3.Modular: Flask is designed to be modular, allowing developers to add functionality as needed.\n",
    "\n",
    "4.Easy to get started: Flask has a small learning curve, and it's easy to get started with building web applications using this framework.\n",
    "\n",
    "5.Good documentation: Flask has excellent documentation, making it easy for developers to find answers to their questions and solve problems.\n",
    "\n",
    "6.Large community: Flask has a large community of developers who contribute to the framework's development, ensuring that it stays up-to-date and relevant."
   ]
  },
  {
   "cell_type": "markdown",
   "id": "9394aa6b-f57d-4b29-8e80-d69d4e15967a",
   "metadata": {},
   "source": [
    "Q2. Create a simple Flask application to display ‘Hello World!!’. Attach the screenshot of the output in\n",
    "Jupyter Notebook.\n",
    "\n",
    "Ans 2."
   ]
  },
  {
   "cell_type": "code",
   "execution_count": null,
   "id": "f74f9b69-3236-4a5d-a91a-470a3f6c23a7",
   "metadata": {},
   "outputs": [
    {
     "name": "stdout",
     "output_type": "stream",
     "text": [
      " * Serving Flask app '__main__'\n",
      " * Debug mode: off\n"
     ]
    },
    {
     "name": "stderr",
     "output_type": "stream",
     "text": [
      "WARNING: This is a development server. Do not use it in a production deployment. Use a production WSGI server instead.\n",
      " * Running on http://127.0.0.1:5000\n",
      "Press CTRL+C to quit\n"
     ]
    }
   ],
   "source": [
    "from flask import Flask\n",
    "\n",
    "app = Flask(__name__)\n",
    "\n",
    "@app.route('/')\n",
    "def hello_world():\n",
    "    return 'Hello World!!'\n",
    "\n",
    "if __name__ == '__main__':\n",
    "    app.run()"
   ]
  },
  {
   "cell_type": "markdown",
   "id": "099c532e-7266-4148-b637-37b3ab8b9a37",
   "metadata": {},
   "source": [
    "<img src =\"flask.png\"/>"
   ]
  },
  {
   "cell_type": "markdown",
   "id": "ff224df6-03b2-4946-a7d9-bb4b69939820",
   "metadata": {},
   "source": [
    "Q3. What is App routing in Flask? Why do we use app routes?\n",
    "\n",
    "Ans 3.\n",
    "\n",
    "App routing in Flask refers to the process of defining URL patterns and associating them with view functions that generate responses. It is a way of mapping URLs in your web application to Python functions that will be executed when a user visits those URLs.\n",
    "\n",
    "In Flask, we use app routes to define the behavior of our web application when a particular URL is accessed. App routes allow us to specify which function should handle a request for a specific URL pattern.\n",
    "\n",
    "We use app routes to create different pages or views in our web application. Each view can have its own unique URL pattern, and Flask's routing mechanism ensures that requests to those URLs are handled appropriately. We can also pass parameters to app routes, allowing us to create dynamic views that vary based on user input or other factors.\n",
    "\n",
    "Overall, app routes in Flask provide a clean and flexible way to define the behavior of our web application and make it easy for users to access the different pages and functionality within it."
   ]
  },
  {
   "cell_type": "code",
   "execution_count": null,
   "id": "a2bbbbc5-f915-4eb7-ab97-724c73a4be99",
   "metadata": {},
   "outputs": [],
   "source": [
    "Q4. Create a “/welcome” route to display the welcome message “Welcome to ABC Corporation” and a “/”\n",
    "route to show the following details:\n",
    "Company Name: ABC Corporation\n",
    "Location: India\n",
    "Contact Detail: 999-999-9999"
   ]
  },
  {
   "cell_type": "code",
   "execution_count": null,
   "id": "4d9b5c38-6130-4fbf-a391-578c2dc5c25c",
   "metadata": {},
   "outputs": [],
   "source": [
    "# Ans 4.\n",
    "\n",
    "from flask import Flask\n",
    "\n",
    "app = Flask(__name__)\n",
    "\n",
    "@app.route('/welcome')\n",
    "def welcome():\n",
    "    return 'Welcome to ABC Corporation'\n",
    "\n",
    "@app.route('/')\n",
    "def index():\n",
    "    company_name = \"ABC Corporation\"\n",
    "    location = \"India\"\n",
    "    contact_detail = \"999-999-9999\"\n",
    "    \n",
    "    return f\"Company Name: {company_name}<br>Location: {location}<br>Contact Detail: {contact_detail}\"\n",
    "\n",
    "if __name__ == '__main__':\n",
    "    app.run()\n"
   ]
  },
  {
   "cell_type": "markdown",
   "id": "49f3ba04-0f5b-4fab-94dc-c07ee17554dc",
   "metadata": {},
   "source": [
    "<img src =\"abc.png\"/>\n",
    "<img src =\"welcome.png\"/>"
   ]
  },
  {
   "cell_type": "markdown",
   "id": "0364e744-95fe-42e8-b335-5653a2d9208b",
   "metadata": {},
   "source": [
    "Q5. What function is used in Flask for URL Building? Write a Python code to demonstrate the working of the\n",
    "url_for() function.\n",
    "\n",
    "Ans 5.\n",
    "\n",
    "In Flask, the url_for() function is used for URL Building. It takes the endpoint name as its first argument and generates a URL for that endpoint based on the routing rules defined in the application. The url_for() function helps to create links to pages within a Flask application without hard coding URLs.\n",
    "\n",
    "By using the url_for() function, we can write cleaner and more maintainable code by avoiding hard-coded URLs and instead generating URLs dynamically based on the endpoint names. This makes it easier to modify the URL structure of our application without having to change all instances of hard-coded URLs in our codebase."
   ]
  },
  {
   "cell_type": "code",
   "execution_count": null,
   "id": "9647a93e-81df-43e2-84d5-7805222b6d9b",
   "metadata": {},
   "outputs": [],
   "source": [
    "# Here's an example code snippet demonstrating the working of the url_for() function:\n",
    "\n",
    "\n",
    "from flask import Flask, url_for\n",
    "\n",
    "app = Flask(__name__)\n",
    "\n",
    "@app.route('/')\n",
    "def home():\n",
    "    return 'This is the home page.'\n",
    "\n",
    "@app.route('/about')\n",
    "def about():\n",
    "    return 'This is the about page.'\n",
    "\n",
    "@app.route('/contact')\n",
    "def contact():\n",
    "    return 'This is the contact page.'\n",
    "\n",
    "@app.route('/user/<username>')\n",
    "def user_profile(username):\n",
    "    return f'This is the profile page for {username}'\n",
    "\n",
    "if __name__ == '__main__':\n",
    "    with app.test_request_context():\n",
    "        print(url_for('home'))  # Output: \"/\"\n",
    "        print(url_for('about'))  # Output: \"/about\"\n",
    "        print(url_for('contact'))  # Output: \"/contact\"\n",
    "        print(url_for('user_profile', username='john'))  # Output: \"/user/john\""
   ]
  }
 ],
 "metadata": {
  "kernelspec": {
   "display_name": "Python 3 (ipykernel)",
   "language": "python",
   "name": "python3"
  },
  "language_info": {
   "codemirror_mode": {
    "name": "ipython",
    "version": 3
   },
   "file_extension": ".py",
   "mimetype": "text/x-python",
   "name": "python",
   "nbconvert_exporter": "python",
   "pygments_lexer": "ipython3",
   "version": "3.10.8"
  }
 },
 "nbformat": 4,
 "nbformat_minor": 5
}
