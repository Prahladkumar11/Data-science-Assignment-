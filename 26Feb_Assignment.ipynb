{
 "cells": [
  {
   "cell_type": "code",
   "execution_count": 2,
   "id": "2f734d72-95b2-47ec-a496-459d0f6e5920",
   "metadata": {},
   "outputs": [],
   "source": [
    "import numpy as np\n",
    "list_ = [ '1','2','3','4','5' ]\n",
    "array_list = np.array(object = list_)"
   ]
  },
  {
   "cell_type": "markdown",
   "id": "547763f5-0d73-483c-9bcb-c53a00303ed8",
   "metadata": {},
   "source": [
    "Q1. Is there any difference in the data type of variables list_ and array_list? If there is then write a code\n",
    "to print the data types of both the variables."
   ]
  },
  {
   "cell_type": "code",
   "execution_count": 10,
   "id": "b2c359aa-28cc-471e-b1ee-3dce4886e352",
   "metadata": {},
   "outputs": [
    {
     "name": "stdout",
     "output_type": "stream",
     "text": [
      "<class 'list'>\n",
      "<class 'numpy.ndarray'>\n"
     ]
    }
   ],
   "source": [
    "'''Yes, there is a difference in the data type of variables list_ and array_list. list_ is a Python list object while array_list \n",
    "   is a NumPy array object.'''\n",
    "# printing data types of both variables\n",
    "print(type(list_)) \n",
    "print(type(array_list))"
   ]
  },
  {
   "cell_type": "markdown",
   "id": "5384bf96-420b-4c15-abbf-baff8c2fb989",
   "metadata": {},
   "source": [
    "Q2. Write a code to print the data type of each and every element of both the variables list_ and\n",
    "arra_list."
   ]
  },
  {
   "cell_type": "code",
   "execution_count": 11,
   "id": "e47624e0-497c-42ec-8d52-53883c537fe2",
   "metadata": {},
   "outputs": [
    {
     "name": "stdout",
     "output_type": "stream",
     "text": [
      "<class 'str'>\n",
      "<class 'str'>\n",
      "<class 'str'>\n",
      "<class 'str'>\n",
      "<class 'str'>\n",
      "<class 'numpy.str_'>\n",
      "<class 'numpy.str_'>\n",
      "<class 'numpy.str_'>\n",
      "<class 'numpy.str_'>\n",
      "<class 'numpy.str_'>\n"
     ]
    }
   ],
   "source": [
    "# For list_\n",
    "for element in list_:\n",
    "    print(type(element))\n",
    "\n",
    "# For array_list\n",
    "for element in array_list:\n",
    "    print(type(element))"
   ]
  },
  {
   "cell_type": "markdown",
   "id": "a13115e6-f28a-45f0-95ea-beef28305cbe",
   "metadata": {},
   "source": [
    "Q3. Considering the following changes in the variable, array_list:\n",
    "array_list = np.array(object = list_, dtype = int)\n",
    "Will there be any difference in the data type of the elements present in both the variables, list_ and\n",
    "arra_list? If so then print the data types of each and every element present in both the variables, list_\n",
    "and arra_list.\n",
    "Consider the below code to answer further questions:"
   ]
  },
  {
   "cell_type": "code",
   "execution_count": 12,
   "id": "5318058c-6521-4636-b683-4a7881cddf1c",
   "metadata": {},
   "outputs": [
    {
     "name": "stdout",
     "output_type": "stream",
     "text": [
      "<class 'str'>\n",
      "<class 'str'>\n",
      "<class 'str'>\n",
      "<class 'str'>\n",
      "<class 'str'>\n",
      "<class 'numpy.int64'>\n",
      "<class 'numpy.int64'>\n",
      "<class 'numpy.int64'>\n",
      "<class 'numpy.int64'>\n",
      "<class 'numpy.int64'>\n"
     ]
    }
   ],
   "source": [
    "\"\"\"Yes, there will be a difference in the data type of the elements present in both the variables \n",
    "list_ and array_list.\"\"\"\n",
    "\n",
    "\n",
    "import numpy as np\n",
    "list_ = [ '1' , '2' , '3' , '4' , '5' ]\n",
    "array_list = np.array(object = list_, dtype = int)\n",
    "\n",
    "# Print data type of each element in list_\n",
    "for element in list_:\n",
    "    print(type(element))\n",
    "\n",
    "# Print data type of each element in array_list\n",
    "for element in array_list:\n",
    "    print(type(element))\n",
    "    \n"
   ]
  },
  {
   "cell_type": "code",
   "execution_count": 13,
   "id": "242656ce-f38a-4b91-844e-36e4c439b95e",
   "metadata": {},
   "outputs": [],
   "source": [
    "import numpy as np\n",
    "num_list = [ [ 1 , 2 , 3 ] , [ 4 , 5 , 6 ] ]\n",
    "num_array = np.array(object = num_list)"
   ]
  },
  {
   "cell_type": "markdown",
   "id": "e26cbce6-fd3c-43e3-878a-f05fe2ee4dfd",
   "metadata": {},
   "source": [
    "Q4. Write a code to find the following characteristics of variable, num_array:\n",
    "(i) shape\n",
    "(ii) size"
   ]
  },
  {
   "cell_type": "code",
   "execution_count": 14,
   "id": "65b317a6-9f74-4040-bba6-e75aafcc3629",
   "metadata": {},
   "outputs": [
    {
     "name": "stdout",
     "output_type": "stream",
     "text": [
      "(2, 3)\n",
      "6\n"
     ]
    }
   ],
   "source": [
    "# Print the shape of num_array\n",
    "print(num_array.shape)\n",
    "\n",
    "# Print the size of num_array\n",
    "print(num_array.size)"
   ]
  },
  {
   "cell_type": "markdown",
   "id": "73fd3d4f-62b2-4246-bd6c-40e53295b28d",
   "metadata": {},
   "source": [
    "Q5. Write a code to create numpy array of 3*3 matrix containing zeros only, using a numpy array\n",
    "creation function.\n",
    "[Hint: The size of the array will be 9 and the shape will be (3,3).]"
   ]
  },
  {
   "cell_type": "code",
   "execution_count": 16,
   "id": "f2be8feb-14eb-45e3-8913-f3ed3bfa9ba7",
   "metadata": {},
   "outputs": [
    {
     "name": "stdout",
     "output_type": "stream",
     "text": [
      "[[0. 0. 0.]\n",
      " [0. 0. 0.]\n",
      " [0. 0. 0.]]\n"
     ]
    }
   ],
   "source": [
    "# Creating a 3*3 matrix containing zeros only \n",
    "zeros_matrix = np.zeros((3,3))\n",
    "print(zeros_matrix)"
   ]
  },
  {
   "cell_type": "markdown",
   "id": "29cd35e1-9035-4396-ac63-ee737657ad33",
   "metadata": {},
   "source": [
    "Q6. Create an identity matrix of shape (5,5) using numpy functions?\n",
    "[Hint: An identity matrix is a matrix containing 1 diagonally and other elements will be 0.]"
   ]
  },
  {
   "cell_type": "code",
   "execution_count": 17,
   "id": "f3c4bb09-db2d-4055-beb8-7b014f1a5efd",
   "metadata": {},
   "outputs": [
    {
     "name": "stdout",
     "output_type": "stream",
     "text": [
      "[[1. 0. 0. 0. 0.]\n",
      " [0. 1. 0. 0. 0.]\n",
      " [0. 0. 1. 0. 0.]\n",
      " [0. 0. 0. 1. 0.]\n",
      " [0. 0. 0. 0. 1.]]\n"
     ]
    }
   ],
   "source": [
    "# Creating a identity matrix of shape (5,5)\n",
    "identity_matrix = np.eye(5)\n",
    "print(identity_matrix)"
   ]
  }
 ],
 "metadata": {
  "kernelspec": {
   "display_name": "Python 3 (ipykernel)",
   "language": "python",
   "name": "python3"
  },
  "language_info": {
   "codemirror_mode": {
    "name": "ipython",
    "version": 3
   },
   "file_extension": ".py",
   "mimetype": "text/x-python",
   "name": "python",
   "nbconvert_exporter": "python",
   "pygments_lexer": "ipython3",
   "version": "3.10.8"
  }
 },
 "nbformat": 4,
 "nbformat_minor": 5
}
