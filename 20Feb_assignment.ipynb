{
 "cells": [
  {
   "cell_type": "markdown",
   "id": "8ddbc738-9538-433a-8a50-242cd3c78c3f",
   "metadata": {},
   "source": [
    "Q1. Explain GET and POST methods.\n",
    "\n",
    "Ans 1.\n",
    "\n",
    "In HTTP (Hypertext Transfer Protocol), GET and POST are two of the most commonly used request methods for web applications.\n",
    "\n",
    "GET method:\n",
    "\n",
    "1.The GET method is used to retrieve data from a particular resource on the server. It is an idempotent method, meaning it can be called multiple times without changing the state of the server.             \n",
    "2.The GET method sends data in the URL query string, which is visible in the browser's address bar.            \n",
    "3.This method should be used when you want to read or retrieve data from the server. For example, when fetching a page, an image, or some other resource.            \n",
    "\n",
    "\n",
    "\n",
    "POST method:\n",
    "\n",
    "1.The POST method is used to submit data to be processed by a specific resource on the server. It is a non-idempotent method, meaning it changes the state of the server every time it is called.         \n",
    "2.The POST method sends data in the body of the HTTP request, which is not visible in the browser's address bar.            \n",
    "3.This method should be used when you want to create or update data on the server. For example, when submitting a form, sending user input, or uploading a file.           \n",
    "\n",
    "\n",
    "Here are some key differences between GET and POST methods:\n",
    "\n",
    "\n",
    "\n",
    "1.ata visibility: GET requests expose the data being transmitted in the URL query string, which can be seen by anyone who has access to the browser's address bar, while POST requests transmit data in the request body and thus are more secure.\n",
    "\n",
    "2.Caching: GET requests can be cached, while POST requests are not cacheable.\n",
    "\n",
    "3.Idempotency: GET requests are idempotent, while POST requests are not.\n",
    "\n"
   ]
  },
  {
   "cell_type": "markdown",
   "id": "4d16c63b-1073-44d5-8859-99776bb5a18d",
   "metadata": {},
   "source": [
    "Q2. Why is request used in Flask?\n",
    "\n",
    "Ans 2.     \n",
    "In Flask, the request object is used to access incoming request data such as form data, query parameters, and files uploaded in the request. It provides a way for the server-side code to interact with the client-side code by providing a means to retrieve data sent from the client in an HTTP request.\n",
    "\n",
    "By using the request object, you can easily get the values of form fields, URL parameters, headers and much more. You can also use it to handle file uploads and cookies. The request object is part of the Flask framework and is included in the Werkzeug library that Flask uses."
   ]
  },
  {
   "cell_type": "markdown",
   "id": "532ae31c-cc0a-433c-ad32-af55ca71e0b3",
   "metadata": {},
   "source": [
    "Q3. Why is redirect() used in Flask?\n",
    "\n",
    "Ans: 3          \n",
    "\n",
    "In Flask, the redirect() function is used to redirect the user to a different URL. It allows you to send the client to a different location after they have completed some action on your website.\n",
    "\n",
    "The most common use case for redirect() is after a successful form submission. For example, after a user submits a form on your website, you may want to redirect them to a \"Thank You\" page or back to the homepage."
   ]
  },
  {
   "cell_type": "code",
   "execution_count": null,
   "id": "5d95d130-bc3c-47d8-ab74-fcbb7ea066b4",
   "metadata": {},
   "outputs": [],
   "source": [
    "# Here's an example usage of redirect() function in Flask:\n",
    "\n",
    "from flask import Flask, redirect, url_for\n",
    "\n",
    "\n",
    "app = Flask(__name__)\n",
    "\n",
    "@app.route('/')\n",
    "def home():\n",
    "    return 'Welcome to the home page!'\n",
    "\n",
    "@app.route('/login')\n",
    "def login():\n",
    "    # logic to handle login process\n",
    "    return redirect(url_for('home'))\n",
    "\n",
    "if __name__ == '__main__':\n",
    "    app.run()"
   ]
  },
  {
   "cell_type": "markdown",
   "id": "34238c4a-8641-4d82-aa83-9340c57058d8",
   "metadata": {},
   "source": [
    "Q4. What are templates in Flask? Why is the render_template() function used?\n",
    "\n",
    "Ans 4.\n",
    "\n",
    "In Flask, templates are used to generate dynamic HTML content that can be returned as a response to an HTTP request. Templates allow you to separate the presentation logic from the business logic of your code, making it easier to maintain and update your application.\n",
    "\n",
    "Templates in Flask are typically written using Jinja2, which is a modern and designer-friendly templating language for Python. Jinja2 allows you to embed variables, expressions, and control structures within your HTML template files.\n",
    "\n",
    "The render_template() function is used to render the Jinja2 templates. It takes the name of the template file as its first argument and any additional keyword arguments represent variables that should be available in the template.\n",
    "\n"
   ]
  },
  {
   "cell_type": "code",
   "execution_count": null,
   "id": "1b65c72f-4f55-4e1b-a24e-244af40b536e",
   "metadata": {},
   "outputs": [],
   "source": [
    "# here is the example \n",
    "from flask import Flask, render_template\n",
    "\n",
    "app = Flask(__name__)\n",
    "\n",
    "@app.route('/')\n",
    "def home():\n",
    "    return render_template('home.html', name='John')\n",
    "\n",
    "if __name__ == '__main__':\n",
    "    app.run()\n"
   ]
  },
  {
   "cell_type": "markdown",
   "id": "1fcc9aff-272f-4369-9bb7-10a2c9511c65",
   "metadata": {},
   "source": [
    "Q5. Create a simple API. Use Postman to test it. Attach the screenshot of the output in the Jupyter Notebook."
   ]
  },
  {
   "cell_type": "code",
   "execution_count": null,
   "id": "2c224699-e379-45ba-af6c-c47687c97356",
   "metadata": {},
   "outputs": [],
   "source": [
    "from flask import Flask\n",
    "\n",
    "app = Flask(__name__)\n",
    "\n",
    "@app.route('/postman')\n",
    "def hello():\n",
    "    return 'Hello, World!'\n",
    "\n",
    "if __name__ == '__main__':\n",
    "    app.run()\n"
   ]
  },
  {
   "cell_type": "markdown",
   "id": "33f67e54-5c7a-4807-898a-e5e094e4863d",
   "metadata": {},
   "source": [
    "<img src =\"img\postman.png\"/>"
   ]
  },
  {
   "cell_type": "code",
   "execution_count": null,
   "id": "c5fbba5c-9e30-4f8a-b9d3-91a783d45709",
   "metadata": {},
   "outputs": [],
   "source": []
  }
 ],
 "metadata": {
  "kernelspec": {
   "display_name": "Python 3 (ipykernel)",
   "language": "python",
   "name": "python3"
  },
  "language_info": {
   "codemirror_mode": {
    "name": "ipython",
    "version": 3
   },
   "file_extension": ".py",
   "mimetype": "text/x-python",
   "name": "python",
   "nbconvert_exporter": "python",
   "pygments_lexer": "ipython3",
   "version": "3.10.8"
  }
 },
 "nbformat": 4,
 "nbformat_minor": 5
}
